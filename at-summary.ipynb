{
 "cells": [
  {
   "cell_type": "markdown",
   "metadata": {},
   "source": [
    "# Prepare Environment"
   ]
  },
  {
   "cell_type": "code",
   "execution_count": null,
   "metadata": {},
   "outputs": [],
   "source": [
    "from datetime import datetime\n",
    "import pandas as pd\n",
    "from pathlib import Path\n",
    "import plotly\n",
    "import plotly.express as px\n",
    "import numpy as np\n",
    "from statsmodels.tsa.api import VAR\n",
    "import urllib.request\n",
    "\n",
    "plotly.offline.init_notebook_mode()\n",
    "\n",
    "NOW = datetime.now()\n",
    "TODAY = NOW.date()\n",
    "\n",
    "print('Aktualisiert:', NOW)"
   ]
  },
  {
   "cell_type": "markdown",
   "metadata": {},
   "source": [
    "# Initialize Data"
   ]
  },
  {
   "cell_type": "code",
   "execution_count": null,
   "metadata": {},
   "outputs": [],
   "source": [
    "STATE_NAMES = ['Burgenland', 'Kärnten', 'Niederösterreich', \n",
    "               'Oberösterreich', 'Salzburg', 'Steiermark', \n",
    "               'Tirol', 'Vorarlberg', 'Wien']\n",
    "\n",
    "# TODO: Genauer recherchieren!\n",
    "EVENTS = {'1. Lockdown': (np.datetime64('2020-03-20'), np.datetime64('2020-04-14'), \n",
    "                          'red', 'inside top left'),\n",
    "          '1. Maskenpflicht': (np.datetime64('2020-03-30'), np.datetime64('2020-06-15'), \n",
    "                               'yellow', 'inside bottom left'),\n",
    "          '2. Maskenpflicht': (np.datetime64('2020-07-24'), np.datetime64(TODAY), \n",
    "                               'yellow', 'inside bottom left'),\n",
    "          'Soft Lockdown': (np.datetime64('2020-11-03'), np.datetime64('2020-11-17'), \n",
    "                            'orange', 'inside top left'),\n",
    "          '2. Lockdown': (np.datetime64('2020-11-17'), np.datetime64(TODAY), \n",
    "                          'red', 'inside top left')}\n",
    "\n",
    "def load_data(URL, date_columns):\n",
    "    data_file = Path(URL).name\n",
    "    \n",
    "    try:\n",
    "        # Only download the data if we don't have it, to avoid\n",
    "        # excessive server access during local development\n",
    "        with open(data_file):\n",
    "            print(\"Using local\", data_file)\n",
    "    except FileNotFoundError:    \n",
    "        print(\"Downloading\", URL)\n",
    "        urllib.request.urlretrieve(URL, data_file)\n",
    "\n",
    "    return pd.read_csv(data_file, sep=';', parse_dates=date_columns, infer_datetime_format=True, dayfirst=True)\n",
    "\n",
    "raw_data = load_data(\"https://covid19-dashboard.ages.at/data/CovidFaelle_Timeline.csv\", [0])\n",
    "additional_data = load_data(\"https://covid19-dashboard.ages.at/data/CovidFallzahlen.csv\", [0, 2])"
   ]
  },
  {
   "cell_type": "code",
   "execution_count": null,
   "metadata": {},
   "outputs": [],
   "source": [
    "cases = raw_data.query(\"Bundesland == 'Österreich'\")\n",
    "cases.insert(0, 'AnzahlFaelle_avg7', cases.AnzahlFaelle7Tage / 7)\n",
    "time = cases.Time\n",
    "cases"
   ]
  },
  {
   "cell_type": "code",
   "execution_count": null,
   "metadata": {},
   "outputs": [],
   "source": [
    "tests = additional_data.query(\"Bundesland == 'Alle'\")\n",
    "tests.insert(2, 'TagesTests', np.concatenate([[np.nan], np.diff(tests.TestGesamt)]))\n",
    "tests.insert(3, 'TagesTests_avg7', np.concatenate([[np.nan] * 7, (tests.TestGesamt.values[7:] - tests.TestGesamt.values[:-7])/7]))\n",
    "tests.insert(0, 'Time', tests.MeldeDatum)\n",
    "tests"
   ]
  },
  {
   "cell_type": "markdown",
   "metadata": {},
   "source": [
    "# Fallzahlen Österreich (gesamt)"
   ]
  },
  {
   "cell_type": "code",
   "execution_count": null,
   "metadata": {},
   "outputs": [],
   "source": [
    "fig = px.line(cases, x='Time', y=[\"AnzahlFaelle\", \"AnzahlFaelle_avg7\"], log_y=True, title=\"Fallzahlen\")\n",
    "fig.add_scatter(x=tests.Time, y=tests.TagesTests, name='Tests')\n",
    "for name, (begin, end, color, pos) in EVENTS.items():\n",
    "    fig.add_vrect(x0=begin, x1=end, name=name, fillcolor=color, opacity=0.2, \n",
    "                  annotation={'text': name}, annotation_position=pos)\n",
    "fig.show()"
   ]
  },
  {
   "cell_type": "markdown",
   "metadata": {},
   "source": [
    "# Fälle Pro Test"
   ]
  },
  {
   "cell_type": "code",
   "execution_count": null,
   "metadata": {},
   "outputs": [],
   "source": [
    "all_data = tests.merge(cases, on='Time', how='outer')\n",
    "all_data.insert(1, 'PosRate', all_data.AnzahlFaelle / all_data.TagesTests)\n",
    "all_data.insert(1, 'PosRate_avg7', all_data.AnzahlFaelle_avg7 / all_data.TagesTests_avg7)\n",
    "\n",
    "fig = px.line(all_data, x='Time', y=['PosRate', 'PosRate_avg7'], log_y=False, title=\"Anteil Positiver Tests\")\n",
    "for name, (begin, end, color, pos) in EVENTS.items():\n",
    "    fig.add_vrect(x0=begin, x1=end, name=name, fillcolor=color, opacity=0.2, \n",
    "                  annotation={'text': name}, annotation_position=pos)\n",
    "fig.show()"
   ]
  },
  {
   "cell_type": "markdown",
   "metadata": {},
   "source": [
    "# Wachstumsraten Bundesländer"
   ]
  },
  {
   "cell_type": "code",
   "execution_count": null,
   "metadata": {},
   "outputs": [],
   "source": [
    "states = []\n",
    "rates = []\n",
    "for state_name, state_data in raw_data.groupby('Bundesland'):\n",
    "    x = np.log2(state_data.AnzahlFaelle7Tage)\n",
    "    rate = 2**np.array(np.diff(x))\n",
    "    \n",
    "    rates.append(rate)\n",
    "    states.append(state_name)\n",
    "growth = pd.DataFrame({n: r for n, r in zip(states, rates)})\n",
    "\n",
    "fig = px.line(growth, x=time[1:], y=STATE_NAMES, title='Wachstumsrate')\n",
    "fig.update_layout(yaxis=dict(range=[0.25, 4]))\n",
    "fig.show()"
   ]
  },
  {
   "cell_type": "code",
   "execution_count": null,
   "metadata": {},
   "outputs": [],
   "source": [
    "model = VAR(growth[150:][STATE_NAMES])\n",
    "res = model.fit(1)\n",
    "res.summary()"
   ]
  },
  {
   "cell_type": "code",
   "execution_count": null,
   "metadata": {},
   "outputs": [],
   "source": []
  }
 ],
 "metadata": {
  "kernelspec": {
   "display_name": "Python 3",
   "language": "python",
   "name": "python3"
  },
  "language_info": {
   "codemirror_mode": {
    "name": "ipython",
    "version": 3
   },
   "file_extension": ".py",
   "mimetype": "text/x-python",
   "name": "python",
   "nbconvert_exporter": "python",
   "pygments_lexer": "ipython3",
   "version": "3.8.5"
  }
 },
 "nbformat": 4,
 "nbformat_minor": 4
}
